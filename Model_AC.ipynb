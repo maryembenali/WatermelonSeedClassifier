{
 "cells": [
  {
   "cell_type": "code",
   "execution_count": 1,
   "id": "aeea9a58",
   "metadata": {
    "id": "aeea9a58"
   },
   "outputs": [],
   "source": [
    "import tensorflow as tf\n",
    "import os\n",
    "import matplotlib.pyplot as plt\n",
    "import numpy as np \n",
    "import cv2\n",
    "\n"
   ]
  },
  {
   "cell_type": "markdown",
   "id": "1d18475f",
   "metadata": {
    "id": "1d18475f"
   },
   "source": [
    "Load Data"
   ]
  },
  {
   "cell_type": "code",
   "execution_count": 3,
   "id": "776a8e4c",
   "metadata": {
    "colab": {
     "base_uri": "https://localhost:8080/"
    },
    "id": "776a8e4c",
    "outputId": "92065a83-d5a4-4294-a74b-02fed44273a4"
   },
   "outputs": [
    {
     "name": "stdout",
     "output_type": "stream",
     "text": [
      "Found 1288 files belonging to 2 classes.\n"
     ]
    }
   ],
   "source": [
    "data = tf.keras.utils.image_dataset_from_directory('path to dataset  folder')"
   ]
  },
  {
   "cell_type": "code",
   "execution_count": 4,
   "id": "174f2058",
   "metadata": {
    "id": "174f2058"
   },
   "outputs": [],
   "source": [
    "data = data.map(lambda x,y :(x/255,y))\n"
   ]
  },
  {
   "cell_type": "code",
   "execution_count": 5,
   "id": "35abcf5b",
   "metadata": {
    "id": "35abcf5b"
   },
   "outputs": [],
   "source": [
    "scaled_iterator =data.as_numpy_iterator()"
   ]
  },
  {
   "cell_type": "code",
   "execution_count": 6,
   "id": "3185084d",
   "metadata": {
    "id": "3185084d"
   },
   "outputs": [],
   "source": [
    "batch = scaled_iterator.next()"
   ]
  },
  {
   "cell_type": "code",
   "execution_count": 7,
   "id": "d4510e16",
   "metadata": {
    "colab": {
     "base_uri": "https://localhost:8080/"
    },
    "id": "d4510e16",
    "outputId": "a5ebaf37-d1ed-4cce-f66c-b64d5071a0cb"
   },
   "outputs": [
    {
     "data": {
      "text/plain": [
       "41"
      ]
     },
     "execution_count": 7,
     "metadata": {},
     "output_type": "execute_result"
    }
   ],
   "source": [
    "len(data)"
   ]
  },
  {
   "cell_type": "code",
   "execution_count": 8,
   "id": "576e5823",
   "metadata": {
    "id": "576e5823"
   },
   "outputs": [],
   "source": [
    "train_size= int(len(data)*0.8)+2\n",
    "val_size= int(len(data)*0.2)-1\n"
   ]
  },
  {
   "cell_type": "code",
   "execution_count": 9,
   "id": "d09550ac",
   "metadata": {
    "colab": {
     "base_uri": "https://localhost:8080/"
    },
    "id": "d09550ac",
    "outputId": "4f5bac27-ee7b-452c-f395-4281a52abdc3"
   },
   "outputs": [
    {
     "data": {
      "text/plain": [
       "34"
      ]
     },
     "execution_count": 9,
     "metadata": {},
     "output_type": "execute_result"
    }
   ],
   "source": [
    "train_size"
   ]
  },
  {
   "cell_type": "code",
   "execution_count": 10,
   "id": "dc9edba1",
   "metadata": {
    "colab": {
     "base_uri": "https://localhost:8080/"
    },
    "id": "dc9edba1",
    "outputId": "1ed6188c-4c27-4433-f933-515664599382"
   },
   "outputs": [
    {
     "data": {
      "text/plain": [
       "7"
      ]
     },
     "execution_count": 10,
     "metadata": {},
     "output_type": "execute_result"
    }
   ],
   "source": [
    "val_size"
   ]
  },
  {
   "cell_type": "code",
   "execution_count": 11,
   "id": "3dd46399",
   "metadata": {
    "id": "3dd46399"
   },
   "outputs": [],
   "source": [
    "train=data.take(train_size)\n",
    "validation=data.skip(train_size).take(val_size)"
   ]
  },
  {
   "cell_type": "markdown",
   "id": "540433ce",
   "metadata": {
    "id": "540433ce"
   },
   "source": [
    "DL MODEL"
   ]
  },
  {
   "cell_type": "code",
   "execution_count": 12,
   "id": "ac828657",
   "metadata": {
    "id": "ac828657"
   },
   "outputs": [],
   "source": [
    "from tensorflow.keras.models import Sequential\n",
    "from tensorflow.keras.layers import *\n",
    "from tensorflow.keras.applications import ResNet50\n",
    "from tensorflow.keras.regularizers import l2"
   ]
  },
  {
   "cell_type": "code",
   "execution_count": 13,
   "id": "8625e402",
   "metadata": {
    "id": "8625e402"
   },
   "outputs": [],
   "source": [
    "model = Sequential()"
   ]
  },
  {
   "cell_type": "code",
   "execution_count": 14,
   "id": "4d35a726",
   "metadata": {
    "id": "4d35a726"
   },
   "outputs": [],
   "source": [
    "model.add(Conv2D(32,(2,2),1,activation='relu',kernel_regularizer =l2(0.001),input_shape=(256,256,3)))\n",
    "model.add(MaxPooling2D(pool_size=(2, 2)))\n",
    "model.add(Conv2D(64,(2,2),1,activation='relu'))\n",
    "model.add(MaxPooling2D())\n",
    "model.add(Conv2D(128,(2,2),1,activation='relu'))\n",
    "model.add(MaxPooling2D())\n",
    "model.add(Flatten())\n",
    "model.add(Dense(256,activation='relu'))\n",
    "model.add(Dense(1,activation='sigmoid'))\n"
   ]
  },
  {
   "cell_type": "code",
   "execution_count": 15,
   "id": "bf63f422",
   "metadata": {
    "id": "bf63f422"
   },
   "outputs": [],
   "source": [
    "model.compile('adam',loss=tf.losses.BinaryCrossentropy(),metrics=['accuracy'])"
   ]
  },
  {
   "cell_type": "code",
   "execution_count": 16,
   "id": "e203688f",
   "metadata": {
    "colab": {
     "base_uri": "https://localhost:8080/"
    },
    "id": "e203688f",
    "outputId": "bdb3015e-20a6-421d-f2c8-3f989b5b9eff"
   },
   "outputs": [
    {
     "name": "stdout",
     "output_type": "stream",
     "text": [
      "Model: \"sequential\"\n",
      "_________________________________________________________________\n",
      " Layer (type)                Output Shape              Param #   \n",
      "=================================================================\n",
      " conv2d (Conv2D)             (None, 255, 255, 32)      416       \n",
      "                                                                 \n",
      " max_pooling2d (MaxPooling2D  (None, 127, 127, 32)     0         \n",
      " )                                                               \n",
      "                                                                 \n",
      " conv2d_1 (Conv2D)           (None, 126, 126, 64)      8256      \n",
      "                                                                 \n",
      " max_pooling2d_1 (MaxPooling  (None, 63, 63, 64)       0         \n",
      " 2D)                                                             \n",
      "                                                                 \n",
      " conv2d_2 (Conv2D)           (None, 62, 62, 128)       32896     \n",
      "                                                                 \n",
      " max_pooling2d_2 (MaxPooling  (None, 31, 31, 128)      0         \n",
      " 2D)                                                             \n",
      "                                                                 \n",
      " flatten (Flatten)           (None, 123008)            0         \n",
      "                                                                 \n",
      " dense (Dense)               (None, 256)               31490304  \n",
      "                                                                 \n",
      " dense_1 (Dense)             (None, 1)                 257       \n",
      "                                                                 \n",
      "=================================================================\n",
      "Total params: 31,532,129\n",
      "Trainable params: 31,532,129\n",
      "Non-trainable params: 0\n",
      "_________________________________________________________________\n"
     ]
    }
   ],
   "source": [
    "model.summary()"
   ]
  },
  {
   "cell_type": "code",
   "execution_count": 17,
   "id": "ce3948e4",
   "metadata": {
    "id": "ce3948e4"
   },
   "outputs": [],
   "source": [
    "logdir ='logs'"
   ]
  },
  {
   "cell_type": "code",
   "execution_count": 18,
   "id": "3044f685",
   "metadata": {
    "id": "3044f685"
   },
   "outputs": [],
   "source": [
    "tensorboard_callback = tf.keras.callbacks.TensorBoard(log_dir=logdir)"
   ]
  },
  {
   "cell_type": "code",
   "execution_count": 19,
   "id": "7da730d2",
   "metadata": {
    "colab": {
     "base_uri": "https://localhost:8080/"
    },
    "id": "7da730d2",
    "outputId": "679f6664-af04-43dd-932d-0914eba29461"
   },
   "outputs": [
    {
     "name": "stdout",
     "output_type": "stream",
     "text": [
      "Epoch 1/25\n",
      "34/34 [==============================] - 100s 3s/step - loss: 0.8169 - accuracy: 0.5873 - val_loss: 0.6025 - val_accuracy: 0.7200\n",
      "Epoch 2/25\n",
      "34/34 [==============================] - 23s 630ms/step - loss: 0.6227 - accuracy: 0.6710 - val_loss: 0.5372 - val_accuracy: 0.7550\n",
      "Epoch 3/25\n",
      "34/34 [==============================] - 18s 420ms/step - loss: 0.5721 - accuracy: 0.7050 - val_loss: 0.5020 - val_accuracy: 0.8000\n",
      "Epoch 4/25\n",
      "34/34 [==============================] - 15s 411ms/step - loss: 0.4881 - accuracy: 0.7610 - val_loss: 0.4167 - val_accuracy: 0.8350\n",
      "Epoch 5/25\n",
      "34/34 [==============================] - 14s 372ms/step - loss: 0.4136 - accuracy: 0.8134 - val_loss: 0.4788 - val_accuracy: 0.7700\n",
      "Epoch 6/25\n",
      "34/34 [==============================] - 18s 494ms/step - loss: 0.3489 - accuracy: 0.8474 - val_loss: 0.4776 - val_accuracy: 0.7600\n",
      "Epoch 7/25\n",
      "34/34 [==============================] - 14s 381ms/step - loss: 0.2973 - accuracy: 0.8768 - val_loss: 0.2790 - val_accuracy: 0.8750\n",
      "Epoch 8/25\n",
      "34/34 [==============================] - 14s 378ms/step - loss: 0.2334 - accuracy: 0.9173 - val_loss: 0.2471 - val_accuracy: 0.9000\n",
      "Epoch 9/25\n",
      "34/34 [==============================] - 14s 378ms/step - loss: 0.2503 - accuracy: 0.9017 - val_loss: 0.1986 - val_accuracy: 0.9200\n",
      "Epoch 10/25\n",
      "34/34 [==============================] - 14s 373ms/step - loss: 0.2327 - accuracy: 0.9081 - val_loss: 0.2552 - val_accuracy: 0.8950\n",
      "Epoch 11/25\n",
      "34/34 [==============================] - 14s 384ms/step - loss: 0.2036 - accuracy: 0.9154 - val_loss: 0.1704 - val_accuracy: 0.9300\n",
      "Epoch 12/25\n",
      "34/34 [==============================] - 14s 380ms/step - loss: 0.1371 - accuracy: 0.9596 - val_loss: 0.4615 - val_accuracy: 0.8350\n",
      "Epoch 13/25\n",
      "34/34 [==============================] - 18s 473ms/step - loss: 0.1685 - accuracy: 0.9301 - val_loss: 0.2239 - val_accuracy: 0.9050\n",
      "Epoch 14/25\n",
      "34/34 [==============================] - 14s 388ms/step - loss: 0.1221 - accuracy: 0.9522 - val_loss: 0.1370 - val_accuracy: 0.9450\n",
      "Epoch 15/25\n",
      "34/34 [==============================] - 14s 380ms/step - loss: 0.1102 - accuracy: 0.9605 - val_loss: 0.0932 - val_accuracy: 0.9750\n",
      "Epoch 16/25\n",
      "34/34 [==============================] - 14s 369ms/step - loss: 0.0928 - accuracy: 0.9651 - val_loss: 0.1760 - val_accuracy: 0.9300\n",
      "Epoch 17/25\n",
      "34/34 [==============================] - 14s 382ms/step - loss: 0.1707 - accuracy: 0.9292 - val_loss: 0.1358 - val_accuracy: 0.9600\n",
      "Epoch 18/25\n",
      "34/34 [==============================] - 14s 381ms/step - loss: 0.0956 - accuracy: 0.9697 - val_loss: 0.0997 - val_accuracy: 0.9600\n",
      "Epoch 19/25\n",
      "34/34 [==============================] - 18s 477ms/step - loss: 0.1169 - accuracy: 0.9605 - val_loss: 0.1010 - val_accuracy: 0.9650\n",
      "Epoch 20/25\n",
      "34/34 [==============================] - 14s 389ms/step - loss: 0.0641 - accuracy: 0.9853 - val_loss: 0.0597 - val_accuracy: 0.9800\n",
      "Epoch 21/25\n",
      "34/34 [==============================] - 19s 507ms/step - loss: 0.0530 - accuracy: 0.9844 - val_loss: 0.0838 - val_accuracy: 0.9700\n",
      "Epoch 22/25\n",
      "34/34 [==============================] - 14s 385ms/step - loss: 0.0514 - accuracy: 0.9853 - val_loss: 0.0433 - val_accuracy: 0.9900\n",
      "Epoch 23/25\n",
      "34/34 [==============================] - 14s 382ms/step - loss: 0.0402 - accuracy: 0.9881 - val_loss: 0.0688 - val_accuracy: 0.9750\n",
      "Epoch 24/25\n",
      "34/34 [==============================] - 14s 380ms/step - loss: 0.0503 - accuracy: 0.9807 - val_loss: 0.0377 - val_accuracy: 0.9900\n",
      "Epoch 25/25\n",
      "34/34 [==============================] - 14s 385ms/step - loss: 0.0262 - accuracy: 0.9945 - val_loss: 0.0598 - val_accuracy: 0.9700\n"
     ]
    }
   ],
   "source": [
    "hist=model.fit(train,epochs=25,validation_data=validation,callbacks=[tensorboard_callback])"
   ]
  },
  {
   "cell_type": "code",
   "execution_count": 20,
   "id": "87f24055",
   "metadata": {
    "colab": {
     "base_uri": "https://localhost:8080/",
     "height": 478
    },
    "id": "87f24055",
    "outputId": "386003db-6ec6-4263-d5f4-85a569013692"
   },
   "outputs": [
    {
     "data": {
      "image/png": "[encoded data removed]",
      "text/plain": [
       "<Figure size 640x480 with 1 Axes>"
      ]
     },
     "metadata": {},
     "output_type": "display_data"
    }
   ],
   "source": [
    "fig=plt.figure()\n",
    "plt.plot(hist.history['loss'],color='red',label='loss')\n",
    "plt.plot(hist.history['val_loss'],color='green',label='val_loss')\n",
    "plt.suptitle(\"loss\",fontsize=20)\n",
    "plt.legend()\n",
    "plt.show()"
   ]
  },
  {
   "cell_type": "code",
   "execution_count": 21,
   "id": "4f30e5c6",
   "metadata": {
    "colab": {
     "base_uri": "https://localhost:8080/",
     "height": 478
    },
    "id": "4f30e5c6",
    "outputId": "6e34f29f-fcdd-4057-e9d9-6f8dcd33613a"
   },
   "outputs": [
    {
     "data": {
      "image/png": "[encoded data removed]",
      "text/plain": [
       "<Figure size 640x480 with 1 Axes>"
      ]
     },
     "metadata": {},
     "output_type": "display_data"
    }
   ],
   "source": [
    "fig=plt.figure()\n",
    "plt.plot(hist.history['accuracy'],color='red',label='accuracy')\n",
    "plt.plot(hist.history['val_accuracy'],color='green',label='val_accuracy')\n",
    "plt.suptitle(\"accuracy\",fontsize=20)\n",
    "plt.legend()\n",
    "plt.show()"
   ]
  },
  {
   "cell_type": "code",
   "execution_count": null,
   "id": "89796220",
   "metadata": {
    "colab": {
     "base_uri": "https://localhost:8080/"
    },
    "id": "89796220",
    "outputId": "ee0c9d6e-b038-42f6-d3b2-1a985ee1ba7a"
   },
   "outputs": [
    {
     "name": "stdout",
     "output_type": "stream",
     "text": [
      "1/1 [==============================] - 0s 161ms/step\n",
      "1/1 [==============================] - 0s 236ms/step\n",
      "1/1 [==============================] - 0s 65ms/step\n",
      "1/1 [==============================] - 0s 66ms/step\n",
      "1/1 [==============================] - 0s 68ms/step\n",
      "1/1 [==============================] - 0s 65ms/step\n",
      "1/1 [==============================] - 0s 68ms/step\n",
      "1/1 [==============================] - 0s 63ms/step\n",
      "1/1 [==============================] - 0s 65ms/step\n",
      "1/1 [==============================] - 0s 64ms/step\n",
      "1/1 [==============================] - 0s 86ms/step\n",
      "1/1 [==============================] - 0s 66ms/step\n",
      "1/1 [==============================] - 0s 70ms/step\n",
      "1/1 [==============================] - 0s 70ms/step\n",
      "1/1 [==============================] - 0s 68ms/step\n",
      "1/1 [==============================] - 0s 65ms/step\n",
      "1/1 [==============================] - 0s 75ms/step\n",
      "1/1 [==============================] - 0s 72ms/step\n",
      "1/1 [==============================] - 0s 63ms/step\n",
      "1/1 [==============================] - 0s 62ms/step\n",
      "1/1 [==============================] - 0s 65ms/step\n",
      "1/1 [==============================] - 0s 63ms/step\n",
      "1/1 [==============================] - 0s 65ms/step\n",
      "1/1 [==============================] - 0s 64ms/step\n",
      "1/1 [==============================] - 0s 72ms/step\n",
      "1/1 [==============================] - 0s 62ms/step\n",
      "1/1 [==============================] - 0s 63ms/step\n",
      "1/1 [==============================] - 0s 66ms/step\n",
      "1/1 [==============================] - 0s 63ms/step\n",
      "1/1 [==============================] - 0s 72ms/step\n",
      "1/1 [==============================] - 0s 62ms/step\n",
      "1/1 [==============================] - 0s 67ms/step\n",
      "1/1 [==============================] - 0s 66ms/step\n",
      "1/1 [==============================] - 0s 66ms/step\n",
      "1/1 [==============================] - 0s 65ms/step\n",
      "1/1 [==============================] - 0s 62ms/step\n",
      "1/1 [==============================] - 0s 103ms/step\n",
      "1/1 [==============================] - 0s 94ms/step\n",
      "1/1 [==============================] - 0s 107ms/step\n",
      "1/1 [==============================] - 0s 102ms/step\n",
      "1/1 [==============================] - 0s 100ms/step\n",
      "1/1 [==============================] - 0s 97ms/step\n",
      "1/1 [==============================] - 0s 98ms/step\n",
      "1/1 [==============================] - 0s 95ms/step\n",
      "1/1 [==============================] - 0s 108ms/step\n",
      "1/1 [==============================] - 0s 95ms/step\n",
      "1/1 [==============================] - 0s 98ms/step\n",
      "1/1 [==============================] - 0s 98ms/step\n",
      "1/1 [==============================] - 0s 98ms/step\n",
      "1/1 [==============================] - 0s 101ms/step\n",
      "1/1 [==============================] - 0s 107ms/step\n",
      "1/1 [==============================] - 0s 100ms/step\n",
      "1/1 [==============================] - 0s 96ms/step\n",
      "1/1 [==============================] - 0s 108ms/step\n",
      "1/1 [==============================] - 0s 98ms/step\n",
      "1/1 [==============================] - 0s 97ms/step\n",
      "1/1 [==============================] - 0s 105ms/step\n",
      "1/1 [==============================] - 0s 90ms/step\n",
      "1/1 [==============================] - 0s 96ms/step\n",
      "1/1 [==============================] - 0s 95ms/step\n",
      "1/1 [==============================] - 0s 105ms/step\n",
      "1/1 [==============================] - 0s 94ms/step\n",
      "1/1 [==============================] - 0s 89ms/step\n",
      "1/1 [==============================] - 0s 112ms/step\n",
      "1/1 [==============================] - 0s 93ms/step\n",
      "1/1 [==============================] - 0s 84ms/step\n",
      "1/1 [==============================] - 0s 102ms/step\n",
      "1/1 [==============================] - 0s 95ms/step\n",
      "1/1 [==============================] - 0s 74ms/step\n",
      "1/1 [==============================] - 0s 65ms/step\n",
      "1/1 [==============================] - 0s 66ms/step\n",
      "1/1 [==============================] - 0s 63ms/step\n",
      "1/1 [==============================] - 0s 73ms/step\n",
      "1/1 [==============================] - 0s 65ms/step\n",
      "1/1 [==============================] - 0s 66ms/step\n",
      "1/1 [==============================] - 0s 63ms/step\n",
      "1/1 [==============================] - 0s 64ms/step\n",
      "1/1 [==============================] - 0s 65ms/step\n",
      "1/1 [==============================] - 0s 66ms/step\n",
      "1/1 [==============================] - 0s 69ms/step\n",
      "1/1 [==============================] - 0s 62ms/step\n",
      "1/1 [==============================] - 0s 67ms/step\n",
      "1/1 [==============================] - 0s 66ms/step\n",
      "1/1 [==============================] - 0s 74ms/step\n",
      "1/1 [==============================] - 0s 66ms/step\n",
      "1/1 [==============================] - 0s 63ms/step\n",
      "1/1 [==============================] - 0s 63ms/step\n",
      "1/1 [==============================] - 0s 66ms/step\n",
      "1/1 [==============================] - 0s 65ms/step\n",
      "1/1 [==============================] - 0s 65ms/step\n",
      "1/1 [==============================] - 0s 62ms/step\n",
      "1/1 [==============================] - 0s 65ms/step\n",
      "1/1 [==============================] - 0s 73ms/step\n",
      "1/1 [==============================] - 0s 65ms/step\n",
      "1/1 [==============================] - 0s 63ms/step\n",
      "1/1 [==============================] - 0s 65ms/step\n",
      "1/1 [==============================] - 0s 65ms/step\n",
      "1/1 [==============================] - 0s 67ms/step\n",
      "1/1 [==============================] - 0s 61ms/step\n",
      "1/1 [==============================] - 0s 63ms/step\n",
      "1/1 [==============================] - 0s 64ms/step\n",
      "1/1 [==============================] - 0s 63ms/step\n",
      "1/1 [==============================] - 0s 66ms/step\n",
      "1/1 [==============================] - 0s 66ms/step\n",
      "1/1 [==============================] - 0s 65ms/step\n",
      "1/1 [==============================] - 0s 64ms/step\n",
      "1/1 [==============================] - 0s 61ms/step\n",
      "1/1 [==============================] - 0s 62ms/step\n",
      "1/1 [==============================] - 0s 62ms/step\n",
      "1/1 [==============================] - 0s 65ms/step\n",
      "1/1 [==============================] - 0s 68ms/step\n",
      "1/1 [==============================] - 0s 65ms/step\n",
      "1/1 [==============================] - 0s 69ms/step\n",
      "1/1 [==============================] - 0s 64ms/step\n",
      "1/1 [==============================] - 0s 68ms/step\n",
      "1/1 [==============================] - 0s 61ms/step\n",
      "1/1 [==============================] - 0s 64ms/step\n",
      "1/1 [==============================] - 0s 67ms/step\n",
      "1/1 [==============================] - 0s 63ms/step\n",
      "1/1 [==============================] - 0s 71ms/step\n",
      "1/1 [==============================] - 0s 73ms/step\n",
      "1/1 [==============================] - 0s 67ms/step\n",
      "1/1 [==============================] - 0s 69ms/step\n",
      "1/1 [==============================] - 0s 75ms/step\n",
      "1/1 [==============================] - 0s 64ms/step\n",
      "1/1 [==============================] - 0s 66ms/step\n",
      "1/1 [==============================] - 0s 66ms/step\n",
      "1/1 [==============================] - 0s 67ms/step\n",
      "1/1 [==============================] - 0s 69ms/step\n",
      "1/1 [==============================] - 0s 68ms/step\n",
      "1/1 [==============================] - 0s 74ms/step\n",
      "1/1 [==============================] - 0s 79ms/step\n",
      "1/1 [==============================] - 0s 80ms/step\n",
      "1/1 [==============================] - 0s 73ms/step\n",
      "1/1 [==============================] - 0s 71ms/step\n",
      "1/1 [==============================] - 0s 75ms/step\n",
      "1/1 [==============================] - 0s 82ms/step\n",
      "1/1 [==============================] - 0s 77ms/step\n",
      "1/1 [==============================] - 0s 74ms/step\n",
      "1/1 [==============================] - 0s 81ms/step\n",
      "1/1 [==============================] - 0s 109ms/step\n",
      "1/1 [==============================] - 0s 108ms/step\n",
      "1/1 [==============================] - 0s 116ms/step\n",
      "1/1 [==============================] - 0s 105ms/step\n",
      "1/1 [==============================] - 0s 134ms/step\n",
      "1/1 [==============================] - 0s 107ms/step\n",
      "1/1 [==============================] - 0s 113ms/step\n",
      "1/1 [==============================] - 0s 150ms/step\n",
      "1/1 [==============================] - 0s 118ms/step\n",
      "1/1 [==============================] - 0s 115ms/step\n",
      "Accuracy for 75 samples of 3n is :  0.88\n",
      "Accuracy for 75 samples of 4n is :  0.8933333333333333\n"
     ]
    }
   ],
   "source": [
    "i=0\n",
    "j=0\n",
    "n1=75\n",
    "test_dir='/content/drive/MyDrive/PartitionedDataA/TestA'\n",
    "for img_class in os.listdir(test_dir):\n",
    "    for image in os.listdir(os.path.join(test_dir,img_class)):\n",
    "        image_path = os.path.join(test_dir,img_class,image)\n",
    "        img=cv2.imread(image_path)\n",
    "        resize= tf.image.resize(img,(256,256))\n",
    "        yhat=model.predict(np.expand_dims(resize/255,0))\n",
    "        if yhat[0][0] < 0.86 :\n",
    "            if img_class=='3n':\n",
    "                i+=1\n",
    "                \n",
    "        else :\n",
    "            if img_class=='4n':\n",
    "                j+=1\n",
    "                \n",
    "print(\"Accuracy for 75 samples of 3n is : \" ,i/n1)\n",
    "print(\"Accuracy for 75 samples of 4n is : \" ,j/n1)\n",
    "       \n",
    "    \n",
    "\n"
   ]
  },
  {
   "cell_type": "code",
   "execution_count": null,
   "id": "8f07cb66",
   "metadata": {
    "id": "8f07cb66"
   },
   "outputs": [],
   "source": [
    "model.save('model_AC.h5')"
   ]
  },
  {
   "cell_type": "code",
   "execution_count": null,
   "id": "cfb0c0f1",
   "metadata": {
    "id": "cfb0c0f1"
   },
   "outputs": [],
   "source": []
  }
 ],
 "metadata": {
  "accelerator": "GPU",
  "colab": {
   "gpuType": "T4",
   "provenance": []
  },
  "kernelspec": {
   "display_name": "Python 3 (ipykernel)",
   "language": "python",
   "name": "python3"
  },
  "language_info": {
   "codemirror_mode": {
    "name": "ipython",
    "version": 3
   },
   "file_extension": ".py",
   "mimetype": "text/x-python",
   "name": "python",
   "nbconvert_exporter": "python",
   "pygments_lexer": "ipython3",
   "version": "3.9.13"
  }
 },
 "nbformat": 4,
 "nbformat_minor": 5
}
